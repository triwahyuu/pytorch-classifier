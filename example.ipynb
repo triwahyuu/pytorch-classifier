{
 "cells": [
  {
   "cell_type": "markdown",
   "metadata": {},
   "source": [
    "# Pytorch Classifier Example  \n",
    "## Preparation  \n",
    "If you have NVIDIA GPU installed in your machine and want to use it for training, install NVIDIA CUDA (recommended version 10.1) and the GPU driver (which comes as a package with CUDA):\n",
    "- head to [NVIDIA CUDA download page](https://developer.nvidia.com/cuda-10.1-download-archive-base).\n",
    "- choose your operating system, architecture, distribution, OS version, then choose \"deb (local)\" (recommended if you don't know what you are doing).\n",
    "- then download from the \"Base Intaller\" section.\n",
    "- the installation steps is provided in the section.\n",
    "\n",
    "To install the dependencies for this project, execute:\n",
    "```\n",
    "pip install -r requirements.txt\n",
    "```\n",
    "Make sure you have `pip` package installed on your system, otherwise follow this [installation steps](https://pip.pypa.io/en/stable/installing/)."
   ]
  },
  {
   "cell_type": "markdown",
   "metadata": {},
   "source": [
    "## Training Model"
   ]
  },
  {
   "cell_type": "code",
   "execution_count": null,
   "metadata": {},
   "outputs": [],
   "source": [
    "import train\n",
    "\n",
    "data_path = \"dataset\" # change this if you have different dataset path\n",
    "train.main(arch='resnet18', data_path=data_path)"
   ]
  },
  {
   "cell_type": "markdown",
   "metadata": {},
   "source": [
    "## Visualise Training Result"
   ]
  },
  {
   "cell_type": "markdown",
   "metadata": {},
   "source": [
    "Prepare the image category from the dataset"
   ]
  },
  {
   "cell_type": "code",
   "execution_count": null,
   "metadata": {},
   "outputs": [],
   "source": [
    "import os\n",
    "data_dir = \"dataset/val\" # change this if you have different dataset path\n",
    "category = [d for d in os.listdir(data_dir) if os.path.isdir(os.path.join(data_dir, d))]\n",
    "category.sort()"
   ]
  },
  {
   "cell_type": "markdown",
   "metadata": {},
   "source": [
    "Running the classifier, make sure to change the `pretrained_path` to your pretrained model and the `input_image` path to your needs. "
   ]
  },
  {
   "cell_type": "code",
   "execution_count": null,
   "metadata": {},
   "outputs": [],
   "source": [
    "from classify import Classifier\n",
    "\n",
    "pretrained_path = \"result/resnet18/resnet18_best.pth\"\n",
    "input_image = [\"data/shark.jpg\", \"data/clown.jpg\"]\n",
    "\n",
    "model = Classifier(pretrained_path)\n",
    "output = model(input_image)\n",
    "print(category[i] for i in output)"
   ]
  }
 ],
 "metadata": {
  "kernelspec": {
   "display_name": "Python 3",
   "language": "python",
   "name": "python3"
  },
  "language_info": {
   "codemirror_mode": {
    "name": "ipython",
    "version": 3
   },
   "file_extension": ".py",
   "mimetype": "text/x-python",
   "name": "python",
   "nbconvert_exporter": "python",
   "pygments_lexer": "ipython3",
   "version": "3.5.2"
  }
 },
 "nbformat": 4,
 "nbformat_minor": 2
}
